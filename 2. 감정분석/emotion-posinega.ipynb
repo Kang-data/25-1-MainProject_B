{
 "cells": [
  {
   "cell_type": "markdown",
   "metadata": {},
   "source": [
    "# 전처리"
   ]
  },
  {
   "cell_type": "code",
   "execution_count": 2,
   "metadata": {},
   "outputs": [
    {
     "name": "stdout",
     "output_type": "stream",
     "text": [
      "                                              wav_id  start_time  end_time  \\\n",
      "0  2_1397G1A4_1398G2A6_T1_2D06T0221C000476_005157...        5.70      6.98   \n",
      "1  2_1397G1A4_1398G2A6_T1_2D06T0221C000476_005157...        6.05      6.83   \n",
      "2  2_1397G1A4_1398G2A6_T1_2D06T0221C000476_005157...        6.95      9.98   \n",
      "3  2_1397G1A4_1398G2A6_T1_2D06T0221C000476_005157...        7.50      8.73   \n",
      "4  2_1397G1A4_1398G2A6_T1_2D06T0221C000476_005157...       10.10     12.23   \n",
      "\n",
      "         Text  emotion  \n",
      "0           어        1  \n",
      "1           어        1  \n",
      "2  제가 출장을 가면은        1  \n",
      "3          제가        1  \n",
      "4         꼭 그        1  \n"
     ]
    }
   ],
   "source": [
    "import os\n",
    "import json\n",
    "import pandas as pd\n",
    "\n",
    "json_folder = 'Sample/02.라벨링데이터'\n",
    "audio_folder = 'Sample/01.원천데이터'\n",
    "rows = []\n",
    "\n",
    "for filename in os.listdir(json_folder):\n",
    "    if filename.endswith('.json'):\n",
    "        with open(os.path.join(json_folder, filename), 'r', encoding='utf-8') as f:\n",
    "            try:\n",
    "                data = json.load(f)\n",
    "                wav_id = data.get('File', {}).get('FileName', '') + '.wav'\n",
    "                conversations = data.get('Conversation', [])\n",
    "\n",
    "                for conv in conversations:\n",
    "                    try:\n",
    "                        # 쉼표 제거 후 float 변환\n",
    "                        start_time = float(conv.get('StartTime', '0').replace(',', ''))\n",
    "                        end_time = float(conv.get('EndTime', '0').replace(',', ''))\n",
    "                        emotion = conv.get('SpeakerEmotionCategory', 'unknown')\n",
    "\n",
    "                        rows.append({\n",
    "                            'wav_id': wav_id,\n",
    "                            'start_time': start_time,\n",
    "                            'end_time': end_time,\n",
    "                            'Text': conv.get('Text', '').strip(),\n",
    "                            'emotion': emotion\n",
    "                        })\n",
    "                    except ValueError as e:\n",
    "                        print(f\"⚠️ 대화 오류 in {filename}: {e}\")\n",
    "                        continue\n",
    "\n",
    "            except Exception as e:\n",
    "                print(f\"⚠️ 파일 오류 in {filename}: {e}\")\n",
    "                continue\n",
    "                \n",
    "# ✅ DataFrame 생성\n",
    "df = pd.DataFrame(rows)\n",
    "\n",
    "# ✅ 감정 레이블 숫자 변환\n",
    "label_map = {'긍정': 0, '중립': 1, '부정': 1}\n",
    "df['emotion'] = df['emotion'].map(label_map)\n",
    "\n",
    "print(df.head(5))"
   ]
  },
  {
   "cell_type": "code",
   "execution_count": 3,
   "metadata": {},
   "outputs": [],
   "source": [
    "# 제거 대상 리스트\n",
    "remove_texts = ['어', '음', '그', '어.', '어 어']\n",
    "\n",
    "# 제거한 새로운 DataFrame 생성\n",
    "df_sampled = df[~df['Text'].isin(remove_texts)]"
   ]
  },
  {
   "cell_type": "code",
   "execution_count": 4,
   "metadata": {},
   "outputs": [
    {
     "data": {
      "image/png": "[encoded data removed]",
      "text/plain": [
       "<Figure size 800x500 with 1 Axes>"
      ]
     },
     "metadata": {},
     "output_type": "display_data"
    }
   ],
   "source": [
    "import matplotlib.pyplot as plt\n",
    "\n",
    "# 감정별 샘플 수 세기\n",
    "emotion_counts = df_sampled['emotion'].value_counts()\n",
    "\n",
    "# 바 플롯 시각화\n",
    "plt.figure(figsize=(8, 5))\n",
    "emotion_counts.plot(kind='bar', color='skyblue', edgecolor='black')\n",
    "plt.title('Emotion Sample Distribution')\n",
    "plt.xlabel('Emotion')\n",
    "plt.ylabel('Number of Samples')\n",
    "plt.xticks(rotation=0)\n",
    "plt.grid(axis='y', linestyle='--', alpha=0.7)\n",
    "plt.tight_layout()\n",
    "plt.show()"
   ]
  },
  {
   "cell_type": "code",
   "execution_count": 5,
   "metadata": {},
   "outputs": [
    {
     "name": "stdout",
     "output_type": "stream",
     "text": [
      "emotion\n",
      "1    2738\n",
      "0    2484\n",
      "Name: count, dtype: int64\n"
     ]
    }
   ],
   "source": [
    "# 1. 긍정 감정만 따로 선택\n",
    "df_positive = df_sampled[df_sampled['emotion'] == 0]\n",
    "\n",
    "# 2. 긍정 감정 중 1/2만 랜덤 추출\n",
    "df_positive_reduced = df_positive.sample(frac=1/2, random_state=42)\n",
    "\n",
    "# 3. 긍정 이외(중립 + 부정) 데이터 선택\n",
    "df_others = df_sampled[df_sampled['emotion'] == 1]\n",
    "\n",
    "# 4. 다시 합치기\n",
    "df_sampled = pd.concat([df_positive_reduced, df_others]).reset_index(drop=True)\n",
    "df_sampled = df_sampled.sample(frac=0.3, random_state=42).reset_index(drop=True)\n",
    "\n",
    "# ✅ 확인\n",
    "print(df_sampled['emotion'].value_counts())"
   ]
  },
  {
   "cell_type": "code",
   "execution_count": 6,
   "metadata": {
    "id": "Kx1W04SYmVRv"
   },
   "outputs": [],
   "source": [
    "import librosa\n",
    "import numpy as np\n",
    "from tqdm import tqdm  # 진행률 확인용\n",
    "from sklearn.preprocessing import LabelEncoder\n",
    "from sklearn.model_selection import train_test_split\n",
    "from tensorflow.keras.models import Sequential\n",
    "from tensorflow.keras.layers import LSTM, Dense\n",
    "from tensorflow.keras.utils import to_categorical"
   ]
  },
  {
   "cell_type": "code",
   "execution_count": 8,
   "metadata": {},
   "outputs": [],
   "source": [
    "def extract_features(y, sr):\n",
    "    mfccs = np.mean(librosa.feature.mfcc(y=y, sr=sr, n_mfcc=13).T, axis=0)\n",
    "\n",
    "    spec_centroid = np.mean(librosa.feature.spectral_centroid(y=y, sr=sr))\n",
    "    spec_bandwidth = np.mean(librosa.feature.spectral_bandwidth(y=y, sr=sr))\n",
    "    spec_contrast = np.mean(librosa.feature.spectral_contrast(y=y, sr=sr))\n",
    "    spec_flatness = np.mean(librosa.feature.spectral_flatness(y=y))\n",
    "    spec_rolloff = np.mean(librosa.feature.spectral_rolloff(y=y, sr=sr))\n",
    "\n",
    "    chroma = np.mean(librosa.feature.chroma_stft(y=y, sr=sr).T, axis=0)\n",
    "\n",
    "    harm = librosa.effects.harmonic(y)\n",
    "    inh = np.mean(np.abs(y - harm))\n",
    "    tristimulus = np.mean(librosa.feature.rms(y=harm))\n",
    "    harm_energy = np.mean(librosa.feature.rms(y=harm))\n",
    "    noise_energy = np.mean(librosa.feature.rms(y=y - harm))\n",
    "    noiseness = noise_energy / (harm_energy + 1e-6)\n",
    "\n",
    "    return np.hstack([\n",
    "        mfccs,\n",
    "        [spec_centroid, spec_bandwidth, spec_contrast, spec_flatness, spec_rolloff],\n",
    "        chroma,\n",
    "        [inh, tristimulus, harm_energy, noise_energy, noiseness]\n",
    "    ])"
   ]
  },
  {
   "cell_type": "code",
   "execution_count": 9,
   "metadata": {},
   "outputs": [
    {
     "name": "stderr",
     "output_type": "stream",
     "text": [
      " 11%|████▍                                   | 579/5222 [01:40<08:32,  9.07it/s]/var/folders/tq/hww09xy10c5_nzf2crt5rqxh0000gn/T/ipykernel_16016/3696151615.py:17: UserWarning: PySoundFile failed. Trying audioread instead.\n",
      "  y_audio, sr = librosa.load(file_path, sr=24000, offset=row['start_time'], duration=row['end_time'] - row['start_time'])\n",
      "/Users/sunof6/.pyenv/versions/tf_env/lib/python3.10/site-packages/librosa/core/audio.py:184: FutureWarning: librosa.core.audio.__audioread_load\n",
      "\tDeprecated as of librosa version 0.10.0.\n",
      "\tIt will be removed in librosa version 1.0.\n",
      "  y, sr_native = __audioread_load(path, offset, duration, dtype)\n",
      " 11%|████▍                                   | 581/5222 [01:40<11:31,  6.71it/s]"
     ]
    },
    {
     "name": "stdout",
     "output_type": "stream",
     "text": [
      "⚠️ 비어 있는 오디오 구간: 2_1377G2A2_1376G2A2_T1_2D09T0417C000394_004992.wav, start=1018.84, end=1019.15\n"
     ]
    },
    {
     "name": "stderr",
     "output_type": "stream",
     "text": [
      " 11%|████▌                                   | 595/5222 [01:43<15:35,  4.94it/s]"
     ]
    },
    {
     "name": "stdout",
     "output_type": "stream",
     "text": [
      "⚠️ 비어 있는 오디오 구간: 2_2593G2A3_2481G2A3_T2_2D01T0002C000175_010980.wav, start=347.96, end=351.67\n"
     ]
    },
    {
     "name": "stderr",
     "output_type": "stream",
     "text": [
      " 22%|████████▍                              | 1132/5222 [03:03<13:33,  5.03it/s]"
     ]
    },
    {
     "name": "stdout",
     "output_type": "stream",
     "text": [
      "⚠️ 비어 있는 오디오 구간: 2_1377G2A2_1376G2A2_T1_2D09T0416C000442_004984.wav, start=1032.9, end=1036.06\n"
     ]
    },
    {
     "name": "stderr",
     "output_type": "stream",
     "text": [
      " 32%|████████████▋                          | 1696/5222 [04:18<05:51, 10.03it/s]"
     ]
    },
    {
     "name": "stdout",
     "output_type": "stream",
     "text": [
      "⚠️ 비어 있는 오디오 구간: 2_2593G2A3_2481G2A3_T2_2D01T0002C000175_010980.wav, start=337.7, end=340.88\n"
     ]
    },
    {
     "name": "stderr",
     "output_type": "stream",
     "text": [
      " 42%|████████████████▌                      | 2217/5222 [05:13<05:40,  8.83it/s]"
     ]
    },
    {
     "name": "stdout",
     "output_type": "stream",
     "text": [
      "⚠️ 비어 있는 오디오 구간: 2_1377G2A2_1376G2A2_T1_2D09T0416C000442_004984.wav, start=1027.47, end=1029.15\n"
     ]
    },
    {
     "name": "stderr",
     "output_type": "stream",
     "text": [
      " 50%|███████████████████▍                   | 2607/5222 [05:53<03:44, 11.64it/s]"
     ]
    },
    {
     "name": "stdout",
     "output_type": "stream",
     "text": [
      "⚠️ 비어 있는 오디오 구간: 2_1377G2A2_1376G2A2_T1_2D09T0375C000414_004986.wav, start=1034.41, end=1035.55\n"
     ]
    },
    {
     "name": "stderr",
     "output_type": "stream",
     "text": [
      " 69%|██████████████████████████▉            | 3609/5222 [07:42<03:04,  8.77it/s]"
     ]
    },
    {
     "name": "stdout",
     "output_type": "stream",
     "text": [
      "⚠️ 비어 있는 오디오 구간: 2_2593G2A3_2481G2A3_T2_2D01T0002C000175_010980.wav, start=444.36, end=447.03\n"
     ]
    },
    {
     "name": "stderr",
     "output_type": "stream",
     "text": [
      " 72%|████████████████████████████           | 3760/5222 [07:59<02:32,  9.61it/s]"
     ]
    },
    {
     "name": "stdout",
     "output_type": "stream",
     "text": [
      "⚠️ 비어 있는 오디오 구간: 2_1377G2A2_1376G2A2_T1_2D09T0417C000394_004992.wav, start=1031.44, end=1033.49\n"
     ]
    },
    {
     "name": "stderr",
     "output_type": "stream",
     "text": [
      " 75%|█████████████████████████████▍         | 3939/5222 [08:19<02:20,  9.11it/s]"
     ]
    },
    {
     "name": "stdout",
     "output_type": "stream",
     "text": [
      "⚠️ 비어 있는 오디오 구간: 2_1382G2A5_1396G2A5_T1_2D06T0233C000134_005168.wav, start=509.1, end=510.38\n"
     ]
    },
    {
     "name": "stderr",
     "output_type": "stream",
     "text": [
      " 77%|█████████████████████████████▊         | 3997/5222 [08:25<02:19,  8.76it/s]"
     ]
    },
    {
     "name": "stdout",
     "output_type": "stream",
     "text": [
      "⚠️ 비어 있는 오디오 구간: 2_2593G2A3_2481G2A3_T2_2D01T0002C000175_010980.wav, start=366.2, end=366.46\n"
     ]
    },
    {
     "name": "stderr",
     "output_type": "stream",
     "text": [
      " 97%|█████████████████████████████████████▊ | 5071/5222 [10:16<00:19,  7.71it/s]"
     ]
    },
    {
     "name": "stdout",
     "output_type": "stream",
     "text": [
      "⚠️ 비어 있는 오디오 구간: 2_1377G2A2_1376G2A2_T1_2D09T0375C000414_004986.wav, start=1001.86, end=1005.03\n"
     ]
    },
    {
     "name": "stderr",
     "output_type": "stream",
     "text": [
      "100%|███████████████████████████████████████| 5222/5222 [10:32<00:00,  8.26it/s]\n"
     ]
    }
   ],
   "source": [
    "X = []\n",
    "y = []\n",
    "\n",
    "# 레이블 인코더 준비\n",
    "le = LabelEncoder()\n",
    "df_sampled['emotion_label'] = le.fit_transform(df_sampled['emotion'])\n",
    "\n",
    "# tqdm을 활용한 Feature 추출\n",
    "for idx, row in tqdm(df_sampled.iterrows(), total=len(df_sampled)):\n",
    "#for idx, row in tqdm(df_sampled.head(10).iterrows(), total=10):\n",
    "    file_path = os.path.join(audio_folder, row['wav_id'])\n",
    "\n",
    "    if not os.path.exists(file_path):\n",
    "        continue\n",
    "\n",
    "    try:\n",
    "        y_audio, sr = librosa.load(file_path, sr=24000, offset=row['start_time'], duration=row['end_time'] - row['start_time'])\n",
    "\n",
    "        if len(y_audio) == 0:\n",
    "#            print(f\"⚠️ 비어 있는 오디오 구간: {row['wav_id']}, start={row['start_time']}, end={row['end_time']}\")\n",
    "            continue\n",
    "\n",
    "        features = extract_features(y_audio, sr)\n",
    "        X.append(features)\n",
    "        y.append(row['emotion'])\n",
    "\n",
    "    except Exception as e:\n",
    "        print(f\"⚠️ Feature 추출 실패: {row['wav_id']} / {e}\")\n",
    "        continue\n"
   ]
  },
  {
   "cell_type": "markdown",
   "metadata": {},
   "source": [
    "# 클래스 가중치 구하기\n",
    "from sklearn.utils.class_weight import compute_class_weight\n",
    "import numpy as np\n",
    "\n",
    "# 정수 라벨 기반으로 가중치 계산\n",
    "y_int = y_encoded  # [0, 2, 1, ...]\n",
    "class_weights = compute_class_weight(class_weight='balanced', classes=np.unique(y_int), y=y_int)\n",
    "\n",
    "# 딕셔너리 형태로 변환\n",
    "class_weight_dict = dict(enumerate(class_weights))\n",
    "print(\"클래스 가중치:\", class_weight_dict)"
   ]
  },
  {
   "cell_type": "markdown",
   "metadata": {
    "colab": {
     "base_uri": "https://localhost:8080/",
     "height": 862
    },
    "id": "5iWw4j3ImiSO",
    "outputId": "81b9c798-d4bb-4c5e-8416-adfd92aa46b8",
    "scrolled": true
   },
   "source": [
    "from tensorflow.keras.layers import Input\n",
    "from sklearn.preprocessing import LabelEncoder\n",
    "from tensorflow.keras.utils import to_categorical\n",
    "\n",
    "\n",
    "X = np.array(X)\n",
    "y = np.array(y)\n",
    "X2 = X.reshape((X.shape[0], 1, X.shape[1]))\n",
    "\n",
    "# 문자열 → 정수 인코딩\n",
    "le = LabelEncoder()\n",
    "y_encoded = le.fit_transform(y)  # ['긍정', '긍정', '중립'] → [0, 0, 1, ...]\n",
    "\n",
    "# 정수 → one-hot 인코딩\n",
    "y_cat = to_categorical(y_encoded)\n",
    "\n",
    "X2_train, X2_test, y_train, y_test = train_test_split(X2, y_cat, random_state=42)\n",
    "\n",
    "# LSTM 레이어 2개, Dense 레이어 2개\n",
    "model = Sequential([\n",
    "    Input(shape=(1, 35)),\n",
    "    LSTM(64, return_sequences=True),\n",
    "    LSTM(32),\n",
    "    Dense(128, activation='relu'),\n",
    "    Dense(2, activation='sigmoid')\n",
    "])\n",
    "\n",
    "model.compile(loss='categorical_crossentropy', optimizer='adam', metrics=['accuracy'])\n",
    "model.summary()\n",
    "\n",
    "model.fit(X2_train, y_train, epochs=10, batch_size=32, validation_data=(X2_test, y_test))\n"
   ]
  },
  {
   "cell_type": "code",
   "execution_count": 12,
   "metadata": {},
   "outputs": [
    {
     "data": {
      "text/html": [
       "<pre style=\"white-space:pre;overflow-x:auto;line-height:normal;font-family:Menlo,'DejaVu Sans Mono',consolas,'Courier New',monospace\"><span style=\"font-weight: bold\">Model: \"sequential\"</span>\n",
       "</pre>\n"
      ],
      "text/plain": [
       "\u001b[1mModel: \"sequential\"\u001b[0m\n"
      ]
     },
     "metadata": {},
     "output_type": "display_data"
    },
    {
     "data": {
      "text/html": [
       "<pre style=\"white-space:pre;overflow-x:auto;line-height:normal;font-family:Menlo,'DejaVu Sans Mono',consolas,'Courier New',monospace\">┏━━━━━━━━━━━━━━━━━━━━━━━━━━━━━━━━━┳━━━━━━━━━━━━━━━━━━━━━━━━┳━━━━━━━━━━━━━━━┓\n",
       "┃<span style=\"font-weight: bold\"> Layer (type)                    </span>┃<span style=\"font-weight: bold\"> Output Shape           </span>┃<span style=\"font-weight: bold\">       Param # </span>┃\n",
       "┡━━━━━━━━━━━━━━━━━━━━━━━━━━━━━━━━━╇━━━━━━━━━━━━━━━━━━━━━━━━╇━━━━━━━━━━━━━━━┩\n",
       "│ lstm (<span style=\"color: #0087ff; text-decoration-color: #0087ff\">LSTM</span>)                     │ (<span style=\"color: #00d7ff; text-decoration-color: #00d7ff\">None</span>, <span style=\"color: #00af00; text-decoration-color: #00af00\">1</span>, <span style=\"color: #00af00; text-decoration-color: #00af00\">64</span>)          │        <span style=\"color: #00af00; text-decoration-color: #00af00\">25,600</span> │\n",
       "├─────────────────────────────────┼────────────────────────┼───────────────┤\n",
       "│ lstm_1 (<span style=\"color: #0087ff; text-decoration-color: #0087ff\">LSTM</span>)                   │ (<span style=\"color: #00d7ff; text-decoration-color: #00d7ff\">None</span>, <span style=\"color: #00af00; text-decoration-color: #00af00\">32</span>)             │        <span style=\"color: #00af00; text-decoration-color: #00af00\">12,416</span> │\n",
       "├─────────────────────────────────┼────────────────────────┼───────────────┤\n",
       "│ dense (<span style=\"color: #0087ff; text-decoration-color: #0087ff\">Dense</span>)                   │ (<span style=\"color: #00d7ff; text-decoration-color: #00d7ff\">None</span>, <span style=\"color: #00af00; text-decoration-color: #00af00\">128</span>)            │         <span style=\"color: #00af00; text-decoration-color: #00af00\">4,224</span> │\n",
       "├─────────────────────────────────┼────────────────────────┼───────────────┤\n",
       "│ dense_1 (<span style=\"color: #0087ff; text-decoration-color: #0087ff\">Dense</span>)                 │ (<span style=\"color: #00d7ff; text-decoration-color: #00d7ff\">None</span>, <span style=\"color: #00af00; text-decoration-color: #00af00\">1</span>)              │           <span style=\"color: #00af00; text-decoration-color: #00af00\">129</span> │\n",
       "└─────────────────────────────────┴────────────────────────┴───────────────┘\n",
       "</pre>\n"
      ],
      "text/plain": [
       "┏━━━━━━━━━━━━━━━━━━━━━━━━━━━━━━━━━┳━━━━━━━━━━━━━━━━━━━━━━━━┳━━━━━━━━━━━━━━━┓\n",
       "┃\u001b[1m \u001b[0m\u001b[1mLayer (type)                   \u001b[0m\u001b[1m \u001b[0m┃\u001b[1m \u001b[0m\u001b[1mOutput Shape          \u001b[0m\u001b[1m \u001b[0m┃\u001b[1m \u001b[0m\u001b[1m      Param #\u001b[0m\u001b[1m \u001b[0m┃\n",
       "┡━━━━━━━━━━━━━━━━━━━━━━━━━━━━━━━━━╇━━━━━━━━━━━━━━━━━━━━━━━━╇━━━━━━━━━━━━━━━┩\n",
       "│ lstm (\u001b[38;5;33mLSTM\u001b[0m)                     │ (\u001b[38;5;45mNone\u001b[0m, \u001b[38;5;34m1\u001b[0m, \u001b[38;5;34m64\u001b[0m)          │        \u001b[38;5;34m25,600\u001b[0m │\n",
       "├─────────────────────────────────┼────────────────────────┼───────────────┤\n",
       "│ lstm_1 (\u001b[38;5;33mLSTM\u001b[0m)                   │ (\u001b[38;5;45mNone\u001b[0m, \u001b[38;5;34m32\u001b[0m)             │        \u001b[38;5;34m12,416\u001b[0m │\n",
       "├─────────────────────────────────┼────────────────────────┼───────────────┤\n",
       "│ dense (\u001b[38;5;33mDense\u001b[0m)                   │ (\u001b[38;5;45mNone\u001b[0m, \u001b[38;5;34m128\u001b[0m)            │         \u001b[38;5;34m4,224\u001b[0m │\n",
       "├─────────────────────────────────┼────────────────────────┼───────────────┤\n",
       "│ dense_1 (\u001b[38;5;33mDense\u001b[0m)                 │ (\u001b[38;5;45mNone\u001b[0m, \u001b[38;5;34m1\u001b[0m)              │           \u001b[38;5;34m129\u001b[0m │\n",
       "└─────────────────────────────────┴────────────────────────┴───────────────┘\n"
      ]
     },
     "metadata": {},
     "output_type": "display_data"
    },
    {
     "data": {
      "text/html": [
       "<pre style=\"white-space:pre;overflow-x:auto;line-height:normal;font-family:Menlo,'DejaVu Sans Mono',consolas,'Courier New',monospace\"><span style=\"font-weight: bold\"> Total params: </span><span style=\"color: #00af00; text-decoration-color: #00af00\">42,369</span> (165.50 KB)\n",
       "</pre>\n"
      ],
      "text/plain": [
       "\u001b[1m Total params: \u001b[0m\u001b[38;5;34m42,369\u001b[0m (165.50 KB)\n"
      ]
     },
     "metadata": {},
     "output_type": "display_data"
    },
    {
     "data": {
      "text/html": [
       "<pre style=\"white-space:pre;overflow-x:auto;line-height:normal;font-family:Menlo,'DejaVu Sans Mono',consolas,'Courier New',monospace\"><span style=\"font-weight: bold\"> Trainable params: </span><span style=\"color: #00af00; text-decoration-color: #00af00\">42,369</span> (165.50 KB)\n",
       "</pre>\n"
      ],
      "text/plain": [
       "\u001b[1m Trainable params: \u001b[0m\u001b[38;5;34m42,369\u001b[0m (165.50 KB)\n"
      ]
     },
     "metadata": {},
     "output_type": "display_data"
    },
    {
     "data": {
      "text/html": [
       "<pre style=\"white-space:pre;overflow-x:auto;line-height:normal;font-family:Menlo,'DejaVu Sans Mono',consolas,'Courier New',monospace\"><span style=\"font-weight: bold\"> Non-trainable params: </span><span style=\"color: #00af00; text-decoration-color: #00af00\">0</span> (0.00 B)\n",
       "</pre>\n"
      ],
      "text/plain": [
       "\u001b[1m Non-trainable params: \u001b[0m\u001b[38;5;34m0\u001b[0m (0.00 B)\n"
      ]
     },
     "metadata": {},
     "output_type": "display_data"
    },
    {
     "name": "stdout",
     "output_type": "stream",
     "text": [
      "Epoch 1/10\n",
      "\u001b[1m123/123\u001b[0m \u001b[32m━━━━━━━━━━━━━━━━━━━━\u001b[0m\u001b[37m\u001b[0m \u001b[1m1s\u001b[0m 2ms/step - accuracy: 0.5556 - loss: 0.6851 - val_accuracy: 0.5725 - val_loss: 0.6783\n",
      "Epoch 2/10\n",
      "\u001b[1m123/123\u001b[0m \u001b[32m━━━━━━━━━━━━━━━━━━━━\u001b[0m\u001b[37m\u001b[0m \u001b[1m0s\u001b[0m 1ms/step - accuracy: 0.5602 - loss: 0.6841 - val_accuracy: 0.6316 - val_loss: 0.6651\n",
      "Epoch 3/10\n",
      "\u001b[1m123/123\u001b[0m \u001b[32m━━━━━━━━━━━━━━━━━━━━\u001b[0m\u001b[37m\u001b[0m \u001b[1m0s\u001b[0m 1ms/step - accuracy: 0.5806 - loss: 0.6751 - val_accuracy: 0.6385 - val_loss: 0.6637\n",
      "Epoch 4/10\n",
      "\u001b[1m123/123\u001b[0m \u001b[32m━━━━━━━━━━━━━━━━━━━━\u001b[0m\u001b[37m\u001b[0m \u001b[1m0s\u001b[0m 1ms/step - accuracy: 0.5733 - loss: 0.6814 - val_accuracy: 0.6385 - val_loss: 0.6687\n",
      "Epoch 5/10\n",
      "\u001b[1m123/123\u001b[0m \u001b[32m━━━━━━━━━━━━━━━━━━━━\u001b[0m\u001b[37m\u001b[0m \u001b[1m0s\u001b[0m 1ms/step - accuracy: 0.6320 - loss: 0.6584 - val_accuracy: 0.6416 - val_loss: 0.6475\n",
      "Epoch 6/10\n",
      "\u001b[1m123/123\u001b[0m \u001b[32m━━━━━━━━━━━━━━━━━━━━\u001b[0m\u001b[37m\u001b[0m \u001b[1m0s\u001b[0m 1ms/step - accuracy: 0.6269 - loss: 0.6538 - val_accuracy: 0.5510 - val_loss: 0.6808\n",
      "Epoch 7/10\n",
      "\u001b[1m123/123\u001b[0m \u001b[32m━━━━━━━━━━━━━━━━━━━━\u001b[0m\u001b[37m\u001b[0m \u001b[1m0s\u001b[0m 1ms/step - accuracy: 0.6138 - loss: 0.6610 - val_accuracy: 0.5579 - val_loss: 0.6746\n",
      "Epoch 8/10\n",
      "\u001b[1m123/123\u001b[0m \u001b[32m━━━━━━━━━━━━━━━━━━━━\u001b[0m\u001b[37m\u001b[0m \u001b[1m0s\u001b[0m 1ms/step - accuracy: 0.5200 - loss: 0.6893 - val_accuracy: 0.6454 - val_loss: 0.6458\n",
      "Epoch 9/10\n",
      "\u001b[1m123/123\u001b[0m \u001b[32m━━━━━━━━━━━━━━━━━━━━\u001b[0m\u001b[37m\u001b[0m \u001b[1m0s\u001b[0m 1ms/step - accuracy: 0.6074 - loss: 0.6650 - val_accuracy: 0.6247 - val_loss: 0.6589\n",
      "Epoch 10/10\n",
      "\u001b[1m123/123\u001b[0m \u001b[32m━━━━━━━━━━━━━━━━━━━━\u001b[0m\u001b[37m\u001b[0m \u001b[1m0s\u001b[0m 1ms/step - accuracy: 0.6394 - loss: 0.6521 - val_accuracy: 0.6416 - val_loss: 0.6498\n"
     ]
    },
    {
     "data": {
      "text/plain": [
       "<keras.src.callbacks.history.History at 0x13f7d6a10>"
      ]
     },
     "execution_count": 12,
     "metadata": {},
     "output_type": "execute_result"
    }
   ],
   "source": [
    "from tensorflow.keras.layers import Input, LSTM, Dense\n",
    "from sklearn.preprocessing import LabelEncoder\n",
    "from tensorflow.keras.optimizers import SGD, RMSprop, AdamW\n",
    "\n",
    "X = np.array(X) \n",
    "X2 = X.reshape(-1, 1, 35)\n",
    "\n",
    "# 레이블을 정수 (0 또는 1)로 유지\n",
    "le = LabelEncoder()\n",
    "y_binary = le.fit_transform(y)  # 이진 레이블\n",
    "\n",
    "# train/test 분리\n",
    "X2_train, X2_test, y_train, y_test = train_test_split(X2, y_binary, random_state=42)\n",
    "\n",
    "# 모델 정의\n",
    "model = Sequential([\n",
    "    Input(shape=(1, 35)),\n",
    "    LSTM(64, return_sequences=True),\n",
    "    LSTM(32),\n",
    "    Dense(128, activation='relu'),\n",
    "    Dense(1, activation='sigmoid')  # ✔️ 이진 분류\n",
    "])\n",
    "\n",
    "model.compile(loss='binary_crossentropy', optimizer='adam', metrics=['accuracy'])\n",
    "\n",
    "model.summary()\n",
    "\n",
    "model.fit(X2_train, y_train, epochs=10, batch_size=32, validation_data=(X2_test, y_test))"
   ]
  },
  {
   "cell_type": "code",
   "execution_count": 44,
   "metadata": {},
   "outputs": [
    {
     "name": "stdout",
     "output_type": "stream",
     "text": [
      "\u001b[1m163/163\u001b[0m \u001b[32m━━━━━━━━━━━━━━━━━━━━\u001b[0m\u001b[37m\u001b[0m \u001b[1m0s\u001b[0m 391us/step\n"
     ]
    },
    {
     "data": {
      "image/png": "[encoded data removed]",
      "text/plain": [
       "<Figure size 640x480 with 2 Axes>"
      ]
     },
     "metadata": {},
     "output_type": "display_data"
    }
   ],
   "source": [
    "import numpy as np\n",
    "import matplotlib.pyplot as plt\n",
    "from sklearn.metrics import confusion_matrix, ConfusionMatrixDisplay\n",
    "import matplotlib.font_manager as fm\n",
    "\n",
    "# macOS 전용: AppleGothic 사용\n",
    "plt.rcParams['font.family'] = 'AppleGothic'\n",
    "plt.rcParams['axes.unicode_minus'] = False\n",
    "\n",
    "# ✅ 예측 확률 → 클래스\n",
    "X_array = np.array(X).reshape(-1, 1, 35)\n",
    "y_pred_prob = model.predict(X_array)\n",
    "y_pred = (y_pred_prob > 0.5).astype(int).flatten()\n",
    "\n",
    "# ✅ 정답\n",
    "y_true = np.array(y_binary)\n",
    "\n",
    "# ✅ 혼동 행렬\n",
    "cm = confusion_matrix(y_true, y_pred)\n",
    "disp = ConfusionMatrixDisplay(confusion_matrix=cm, display_labels=['긍정', '중립+부정'])\n",
    "disp.plot(cmap='viridis')\n",
    "plt.title(\"Confusion Matrix\")\n",
    "plt.grid(False)\n",
    "plt.show()"
   ]
  },
  {
   "cell_type": "code",
   "execution_count": 46,
   "metadata": {
    "id": "eSeHWyC4Y_k2"
   },
   "outputs": [
    {
     "name": "stderr",
     "output_type": "stream",
     "text": [
      "/var/folders/tq/hww09xy10c5_nzf2crt5rqxh0000gn/T/ipykernel_16016/3068284352.py:5: UserWarning: PySoundFile failed. Trying audioread instead.\n",
      "  y_audio, sr = librosa.load(\"영천시.m4a\", sr=24000)\n",
      "/Users/sunof6/.pyenv/versions/tf_env/lib/python3.10/site-packages/librosa/core/audio.py:184: FutureWarning: librosa.core.audio.__audioread_load\n",
      "\tDeprecated as of librosa version 0.10.0.\n",
      "\tIt will be removed in librosa version 1.0.\n",
      "  y, sr_native = __audioread_load(path, offset, duration, dtype)\n"
     ]
    },
    {
     "name": "stdout",
     "output_type": "stream",
     "text": [
      "\u001b[1m1/1\u001b[0m \u001b[32m━━━━━━━━━━━━━━━━━━━━\u001b[0m\u001b[37m\u001b[0m \u001b[1m0s\u001b[0m 14ms/step\n",
      "예측 감정: 긍정 (확률: 0.3027)\n"
     ]
    }
   ],
   "source": [
    "import librosa\n",
    "import numpy as np\n",
    "\n",
    "# ✅ 1. 음성 로딩\n",
    "y_audio, sr = librosa.load(\"영천시.m4a\", sr=24000)\n",
    "\n",
    "# ✅ 2. 피처 추출 (기존 학습에서 쓰던 extract_features 함수 사용)\n",
    "features = extract_features(y_audio, sr)  # shape: (35,)\n",
    "\n",
    "# ✅ 3. 모델 입력 형태로 변형 → (1, 1, 35)\n",
    "X_input = np.array(features).reshape(1, 1, 35)\n",
    "\n",
    "# ✅ 4. 예측\n",
    "y_prob = model.predict(X_input)  # sigmoid 확률 값\n",
    "y_pred = (y_prob > 0.5).astype(int)[0][0]  # 이진 분류\n",
    "\n",
    "# ✅ 5. 결과 해석\n",
    "label_map = {0: '긍정', 1: '중립+부정'}\n",
    "print(f\"예측 감정: {label_map[y_pred]} (확률: {y_prob[0][0]:.4f})\")"
   ]
  },
  {
   "cell_type": "code",
   "execution_count": null,
   "metadata": {},
   "outputs": [],
   "source": []
  }
 ],
 "metadata": {
  "colab": {
   "provenance": []
  },
  "kernelspec": {
   "display_name": "Python (tf_env)",
   "language": "python",
   "name": "tf_env"
  },
  "language_info": {
   "codemirror_mode": {
    "name": "ipython",
    "version": 3
   },
   "file_extension": ".py",
   "mimetype": "text/x-python",
   "name": "python",
   "nbconvert_exporter": "python",
   "pygments_lexer": "ipython3",
   "version": "3.10.13"
  }
 },
 "nbformat": 4,
 "nbformat_minor": 4
}
